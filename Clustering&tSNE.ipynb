{
 "cells": [
  {
   "cell_type": "code",
   "execution_count": 1,
   "metadata": {},
   "outputs": [
    {
     "name": "stderr",
     "output_type": "stream",
     "text": [
      "C:\\ProgramData\\Anaconda3\\envs\\mlenv\\lib\\site-packages\\gensim\\utils.py:1197: UserWarning: detected Windows; aliasing chunkize to chunkize_serial\n",
      "  warnings.warn(\"detected Windows; aliasing chunkize to chunkize_serial\")\n"
     ]
    }
   ],
   "source": [
    "import pandas as pd\n",
    "from tqdm import tqdm\n",
    "import re\n",
    "\n",
    "from stop_words import get_stop_words\n",
    "stopwords = get_stop_words('russian')\n",
    "\n",
    "from gensim import corpora, models\n",
    "import logging\n",
    "logging.basicConfig(format='%(asctime)s : %(levelname)s : %(message)s', level=logging.INFO)"
   ]
  },
  {
   "cell_type": "code",
   "execution_count": 2,
   "metadata": {},
   "outputs": [],
   "source": [
    "articles_df = pd.read_csv('texts_lemm_meta.tsv', sep = '\\t')"
   ]
  },
  {
   "cell_type": "code",
   "execution_count": 3,
   "metadata": {},
   "outputs": [
    {
     "data": {
      "text/html": [
       "<div>\n",
       "<style scoped>\n",
       "    .dataframe tbody tr th:only-of-type {\n",
       "        vertical-align: middle;\n",
       "    }\n",
       "\n",
       "    .dataframe tbody tr th {\n",
       "        vertical-align: top;\n",
       "    }\n",
       "\n",
       "    .dataframe thead th {\n",
       "        text-align: right;\n",
       "    }\n",
       "</style>\n",
       "<table border=\"1\" class=\"dataframe\">\n",
       "  <thead>\n",
       "    <tr style=\"text-align: right;\">\n",
       "      <th></th>\n",
       "      <th>path</th>\n",
       "      <th>published</th>\n",
       "      <th>genre</th>\n",
       "      <th>topic</th>\n",
       "      <th>title</th>\n",
       "      <th>date</th>\n",
       "      <th>text</th>\n",
       "    </tr>\n",
       "  </thead>\n",
       "  <tbody>\n",
       "    <tr>\n",
       "      <th>0</th>\n",
       "      <td>diary/2016_2_02_diary_1950.txt</td>\n",
       "      <td>no</td>\n",
       "      <td>diary</td>\n",
       "      <td>everything</td>\n",
       "      <td>Дневник за 1950</td>\n",
       "      <td>1950</td>\n",
       "      <td>дневник р назир декабрь школа миронов чёрный п...</td>\n",
       "    </tr>\n",
       "    <tr>\n",
       "      <th>1</th>\n",
       "      <td>diary/2018_1_01_diary_1951.txt</td>\n",
       "      <td>no</td>\n",
       "      <td>diary</td>\n",
       "      <td>everything</td>\n",
       "      <td>Дневник за 1951</td>\n",
       "      <td>1951</td>\n",
       "      <td>январь наш э й й половина го век рим закончить...</td>\n",
       "    </tr>\n",
       "    <tr>\n",
       "      <th>2</th>\n",
       "      <td>diary/2016_2_03_diary_1956.txt</td>\n",
       "      <td>no</td>\n",
       "      <td>diary</td>\n",
       "      <td>everything</td>\n",
       "      <td>Дневник за 1956</td>\n",
       "      <td>1956</td>\n",
       "      <td>дневник р назир вложить вырезать газета статья...</td>\n",
       "    </tr>\n",
       "    <tr>\n",
       "      <th>3</th>\n",
       "      <td>diary/2016_2_04_diary_1957.txt</td>\n",
       "      <td>no</td>\n",
       "      <td>diary</td>\n",
       "      <td>everything</td>\n",
       "      <td>Дневник за 1957</td>\n",
       "      <td>1957</td>\n",
       "      <td>дневник р назир январь пятница итак кончиться ...</td>\n",
       "    </tr>\n",
       "    <tr>\n",
       "      <th>4</th>\n",
       "      <td>diary/2016_3_02_diary_1958.txt</td>\n",
       "      <td>no</td>\n",
       "      <td>diary</td>\n",
       "      <td>everything</td>\n",
       "      <td>Дневник за 1958</td>\n",
       "      <td>1958</td>\n",
       "      <td>дневник р назир январь уфа новый встречать вит...</td>\n",
       "    </tr>\n",
       "  </tbody>\n",
       "</table>\n",
       "</div>"
      ],
      "text/plain": [
       "                             path published  genre       topic  \\\n",
       "0  diary/2016_2_02_diary_1950.txt        no  diary  everything   \n",
       "1  diary/2018_1_01_diary_1951.txt        no  diary  everything   \n",
       "2  diary/2016_2_03_diary_1956.txt        no  diary  everything   \n",
       "3  diary/2016_2_04_diary_1957.txt        no  diary  everything   \n",
       "4  diary/2016_3_02_diary_1958.txt        no  diary  everything   \n",
       "\n",
       "             title  date                                               text  \n",
       "0  Дневник за 1950  1950  дневник р назир декабрь школа миронов чёрный п...  \n",
       "1  Дневник за 1951  1951  январь наш э й й половина го век рим закончить...  \n",
       "2  Дневник за 1956  1956  дневник р назир вложить вырезать газета статья...  \n",
       "3  Дневник за 1957  1957  дневник р назир январь пятница итак кончиться ...  \n",
       "4  Дневник за 1958  1958  дневник р назир январь уфа новый встречать вит...  "
      ]
     },
     "execution_count": 3,
     "metadata": {},
     "output_type": "execute_result"
    }
   ],
   "source": [
    "articles_df.head()"
   ]
  },
  {
   "cell_type": "markdown",
   "metadata": {},
   "source": [
    "#### LDA Topic model"
   ]
  },
  {
   "cell_type": "code",
   "execution_count": 4,
   "metadata": {},
   "outputs": [
    {
     "data": {
      "text/plain": [
       "array(['everything', 'Dostoevsky', 'literature', 'myth'], dtype=object)"
      ]
     },
     "execution_count": 4,
     "metadata": {},
     "output_type": "execute_result"
    }
   ],
   "source": [
    "articles_df.topic.unique()"
   ]
  },
  {
   "cell_type": "code",
   "execution_count": 19,
   "metadata": {},
   "outputs": [
    {
     "name": "stderr",
     "output_type": "stream",
     "text": [
      "2019-02-26 23:14:07,022 : INFO : adding document #0 to Dictionary(0 unique tokens: [])\n",
      "2019-02-26 23:14:07,626 : INFO : built Dictionary(46290 unique tokens: ['оттянуть', 'бровь', 'всезнание', 'золото', 'анхесть']...) from 1 documents (total 559130 corpus positions)\n",
      "2019-02-26 23:14:08,553 : INFO : using symmetric alpha at 0.25\n",
      "2019-02-26 23:14:08,557 : INFO : using symmetric eta at 0.25\n",
      "2019-02-26 23:14:08,578 : INFO : using serial LDA version on this node\n",
      "2019-02-26 23:14:08,633 : INFO : running online (single-pass) LDA training, 4 topics, 1 passes over the supplied corpus of 110 documents, updating model once every 110 documents, evaluating perplexity every 110 documents, iterating 50x with a convergence threshold of 0.001000\n",
      "2019-02-26 23:14:08,643 : WARNING : too few updates, training might not converge; consider increasing the number of passes or iterations to improve accuracy\n",
      "2019-02-26 23:14:10,692 : INFO : -11.383 per-word bound, 2670.8 perplexity estimate based on a held-out corpus of 110 documents with 558969 words\n",
      "2019-02-26 23:14:10,701 : INFO : PROGRESS: pass 0, at document #110/110\n",
      "2019-02-26 23:14:11,367 : INFO : topic #0 (0.250): 0.006*\"достоевский\" + 0.004*\"роман\" + 0.003*\"герой\" + 0.003*\"русский\" + 0.002*\"пушкин\" + 0.002*\"любовь\" + 0.002*\"сюжет\" + 0.002*\"образ\" + 0.002*\"миф\" + 0.002*\"слово\"\n",
      "2019-02-26 23:14:11,378 : INFO : topic #1 (0.250): 0.006*\"достоевский\" + 0.005*\"роман\" + 0.003*\"герой\" + 0.002*\"русский\" + 0.002*\"миф\" + 0.002*\"бог\" + 0.002*\"знать\" + 0.002*\"образ\" + 0.002*\"пушкин\" + 0.002*\"последний\"\n",
      "2019-02-26 23:14:11,388 : INFO : topic #2 (0.250): 0.006*\"достоевский\" + 0.004*\"роман\" + 0.004*\"герой\" + 0.003*\"сюжет\" + 0.002*\"русский\" + 0.002*\"пушкин\" + 0.002*\"образ\" + 0.002*\"бог\" + 0.002*\"миф\" + 0.002*\"век\"\n",
      "2019-02-26 23:14:11,399 : INFO : topic #3 (0.250): 0.005*\"достоевский\" + 0.004*\"роман\" + 0.003*\"русский\" + 0.003*\"миф\" + 0.003*\"герой\" + 0.002*\"век\" + 0.002*\"бог\" + 0.002*\"друг\" + 0.002*\"пушкин\" + 0.002*\"образ\"\n",
      "2019-02-26 23:14:11,410 : INFO : topic diff=1.721544, rho=1.000000\n"
     ]
    }
   ],
   "source": [
    "corpus = []\n",
    "stops = ['свой', 'наш', 'который', 'один', 'самый', 'далее']\n",
    "stopwords += stops\n",
    "\n",
    "for text in articles_df.text:\n",
    "    words = [word for word in re.findall(r'[а-яё]+', text) if word not in stopwords]\n",
    "    #words = re.findall(r'[а-яё]+', text)\n",
    "    corpus.extend(words)\n",
    "    \n",
    "dictionary = corpora.Dictionary([corpus])\n",
    "\n",
    "articles_bow = [dictionary.doc2bow(text.split()) for text in articles_df.text]\n",
    "\n",
    "lda = models.ldamodel.LdaModel(corpus = articles_bow, id2word = dictionary, num_topics = 4, passes=1)"
   ]
  },
  {
   "cell_type": "code",
   "execution_count": 20,
   "metadata": {},
   "outputs": [
    {
     "name": "stderr",
     "output_type": "stream",
     "text": [
      "2019-02-26 23:14:12,661 : INFO : topic #0 (0.250): 0.006*\"достоевский\" + 0.004*\"роман\" + 0.003*\"герой\" + 0.003*\"русский\" + 0.002*\"пушкин\" + 0.002*\"любовь\" + 0.002*\"сюжет\" + 0.002*\"образ\" + 0.002*\"миф\" + 0.002*\"слово\" + 0.002*\"история\" + 0.001*\"литература\" + 0.001*\"век\" + 0.001*\"дать\" + 0.001*\"знать\" + 0.001*\"дело\" + 0.001*\"тургенев\" + 0.001*\"новый\" + 0.001*\"лицо\" + 0.001*\"сказка\" + 0.001*\"князь\" + 0.001*\"рука\" + 0.001*\"мир\" + 0.001*\"россия\" + 0.001*\"писать\"\n",
      "2019-02-26 23:14:12,692 : INFO : topic #1 (0.250): 0.006*\"достоевский\" + 0.005*\"роман\" + 0.003*\"герой\" + 0.002*\"русский\" + 0.002*\"миф\" + 0.002*\"бог\" + 0.002*\"знать\" + 0.002*\"образ\" + 0.002*\"пушкин\" + 0.002*\"последний\" + 0.002*\"новый\" + 0.002*\"смерть\" + 0.002*\"слово\" + 0.002*\"рука\" + 0.001*\"история\" + 0.001*\"век\" + 0.001*\"мир\" + 0.001*\"сюжет\" + 0.001*\"дело\" + 0.001*\"писать\" + 0.001*\"народ\" + 0.001*\"стать\" + 0.001*\"дать\" + 0.001*\"характер\" + 0.001*\"идти\"\n",
      "2019-02-26 23:14:12,708 : INFO : topic #2 (0.250): 0.006*\"достоевский\" + 0.004*\"роман\" + 0.004*\"герой\" + 0.003*\"сюжет\" + 0.002*\"русский\" + 0.002*\"пушкин\" + 0.002*\"образ\" + 0.002*\"бог\" + 0.002*\"миф\" + 0.002*\"век\" + 0.002*\"дело\" + 0.002*\"новый\" + 0.002*\"литература\" + 0.001*\"мир\" + 0.001*\"народ\" + 0.001*\"знать\" + 0.001*\"слово\" + 0.001*\"лицо\" + 0.001*\"история\" + 0.001*\"рассказ\" + 0.001*\"эпоха\" + 0.001*\"стать\" + 0.001*\"идея\" + 0.001*\"город\" + 0.001*\"дать\"\n",
      "2019-02-26 23:14:12,720 : INFO : topic #3 (0.250): 0.005*\"достоевский\" + 0.004*\"роман\" + 0.003*\"русский\" + 0.003*\"миф\" + 0.003*\"герой\" + 0.002*\"век\" + 0.002*\"бог\" + 0.002*\"друг\" + 0.002*\"пушкин\" + 0.002*\"образ\" + 0.002*\"рука\" + 0.002*\"дело\" + 0.001*\"сюжет\" + 0.001*\"женщина\" + 0.001*\"слово\" + 0.001*\"знать\" + 0.001*\"народ\" + 0.001*\"новый\" + 0.001*\"сказка\" + 0.001*\"любовь\" + 0.001*\"мир\" + 0.001*\"дом\" + 0.001*\"смерть\" + 0.001*\"сила\" + 0.001*\"автор\"\n"
     ]
    },
    {
     "data": {
      "text/plain": [
       "[(0,\n",
       "  '0.006*\"достоевский\" + 0.004*\"роман\" + 0.003*\"герой\" + 0.003*\"русский\" + 0.002*\"пушкин\" + 0.002*\"любовь\" + 0.002*\"сюжет\" + 0.002*\"образ\" + 0.002*\"миф\" + 0.002*\"слово\" + 0.002*\"история\" + 0.001*\"литература\" + 0.001*\"век\" + 0.001*\"дать\" + 0.001*\"знать\" + 0.001*\"дело\" + 0.001*\"тургенев\" + 0.001*\"новый\" + 0.001*\"лицо\" + 0.001*\"сказка\" + 0.001*\"князь\" + 0.001*\"рука\" + 0.001*\"мир\" + 0.001*\"россия\" + 0.001*\"писать\"'),\n",
       " (1,\n",
       "  '0.006*\"достоевский\" + 0.005*\"роман\" + 0.003*\"герой\" + 0.002*\"русский\" + 0.002*\"миф\" + 0.002*\"бог\" + 0.002*\"знать\" + 0.002*\"образ\" + 0.002*\"пушкин\" + 0.002*\"последний\" + 0.002*\"новый\" + 0.002*\"смерть\" + 0.002*\"слово\" + 0.002*\"рука\" + 0.001*\"история\" + 0.001*\"век\" + 0.001*\"мир\" + 0.001*\"сюжет\" + 0.001*\"дело\" + 0.001*\"писать\" + 0.001*\"народ\" + 0.001*\"стать\" + 0.001*\"дать\" + 0.001*\"характер\" + 0.001*\"идти\"'),\n",
       " (2,\n",
       "  '0.006*\"достоевский\" + 0.004*\"роман\" + 0.004*\"герой\" + 0.003*\"сюжет\" + 0.002*\"русский\" + 0.002*\"пушкин\" + 0.002*\"образ\" + 0.002*\"бог\" + 0.002*\"миф\" + 0.002*\"век\" + 0.002*\"дело\" + 0.002*\"новый\" + 0.002*\"литература\" + 0.001*\"мир\" + 0.001*\"народ\" + 0.001*\"знать\" + 0.001*\"слово\" + 0.001*\"лицо\" + 0.001*\"история\" + 0.001*\"рассказ\" + 0.001*\"эпоха\" + 0.001*\"стать\" + 0.001*\"идея\" + 0.001*\"город\" + 0.001*\"дать\"'),\n",
       " (3,\n",
       "  '0.005*\"достоевский\" + 0.004*\"роман\" + 0.003*\"русский\" + 0.003*\"миф\" + 0.003*\"герой\" + 0.002*\"век\" + 0.002*\"бог\" + 0.002*\"друг\" + 0.002*\"пушкин\" + 0.002*\"образ\" + 0.002*\"рука\" + 0.002*\"дело\" + 0.001*\"сюжет\" + 0.001*\"женщина\" + 0.001*\"слово\" + 0.001*\"знать\" + 0.001*\"народ\" + 0.001*\"новый\" + 0.001*\"сказка\" + 0.001*\"любовь\" + 0.001*\"мир\" + 0.001*\"дом\" + 0.001*\"смерть\" + 0.001*\"сила\" + 0.001*\"автор\"')]"
      ]
     },
     "execution_count": 20,
     "metadata": {},
     "output_type": "execute_result"
    }
   ],
   "source": [
    "lda.print_topics(num_topics=4, num_words=25)"
   ]
  },
  {
   "cell_type": "markdown",
   "metadata": {},
   "source": [
    "По результатам тематического моделирования не удается выделить темы коллекции текстов. "
   ]
  },
  {
   "cell_type": "markdown",
   "metadata": {},
   "source": [
    "#### Clustering"
   ]
  },
  {
   "cell_type": "code",
   "execution_count": 21,
   "metadata": {},
   "outputs": [],
   "source": [
    "from sklearn.decomposition import TruncatedSVD\n",
    "from sklearn.feature_extraction.text import *\n",
    "from sklearn.pipeline import *\n",
    "from sklearn.preprocessing import Normalizer\n",
    "from sklearn.metrics import *\n",
    "from sklearn.cluster import *\n",
    "import numpy as np"
   ]
  },
  {
   "cell_type": "code",
   "execution_count": 22,
   "metadata": {},
   "outputs": [
    {
     "data": {
      "text/plain": [
       "Pipeline(memory=None,\n",
       "     steps=[('vect', CountVectorizer(analyzer='word', binary=False, decode_error='strict',\n",
       "        dtype=<class 'numpy.int64'>, encoding='utf-8', input='content',\n",
       "        lowercase=True, max_df=0.9, max_features=None, min_df=3,\n",
       "        ngram_range=(1, 1), preprocessor=None,\n",
       "        stop_words=['а', 'в', ...s=4, n_init=10, n_jobs=1, precompute_distances='auto',\n",
       "    random_state=42, tol=0.0001, verbose=0))])"
      ]
     },
     "execution_count": 22,
     "metadata": {},
     "output_type": "execute_result"
    }
   ],
   "source": [
    "pipeline = Pipeline([\n",
    "    ('vect', CountVectorizer(max_df = 0.9, min_df = 3, stop_words = stopwords, analyzer = 'word')),\n",
    "    ('tfidf', TfidfTransformer()),\n",
    "    ('svd', TruncatedSVD(n_components = 1500)),\n",
    "    #('norm', Normalizer() ),\n",
    "    ('clust', KMeans(n_clusters = 4, random_state = 42))\n",
    "])\n",
    "\n",
    "\n",
    "pipeline.fit(articles_df.text)"
   ]
  },
  {
   "cell_type": "code",
   "execution_count": 23,
   "metadata": {},
   "outputs": [],
   "source": [
    "clust_labels = pipeline.named_steps['clust'].labels_\n",
    "labels = articles_df.topic"
   ]
  },
  {
   "cell_type": "code",
   "execution_count": 24,
   "metadata": {},
   "outputs": [
    {
     "data": {
      "text/plain": [
       "   topic     \n",
       "0  literature    16\n",
       "   myth           2\n",
       "1  everything    19\n",
       "   literature     1\n",
       "   myth           1\n",
       "2  Dostoevsky    25\n",
       "   literature     3\n",
       "   myth           1\n",
       "3  myth          36\n",
       "   literature     6\n",
       "Name: topic, dtype: int64"
      ]
     },
     "execution_count": 24,
     "metadata": {},
     "output_type": "execute_result"
    }
   ],
   "source": [
    "labels.groupby(clust_labels).value_counts()"
   ]
  },
  {
   "cell_type": "markdown",
   "metadata": {},
   "source": [
    "В результате кластеризации выделяются 4 кластера по основным темам коллекции: литература, общее, Достоевский, мифология."
   ]
  },
  {
   "cell_type": "code",
   "execution_count": 26,
   "metadata": {},
   "outputs": [],
   "source": [
    "clust_map = {\n",
    "    0: 'literature',\n",
    "    1: 'everything',\n",
    "    2: 'Dostoevsky',\n",
    "    3: 'myth'\n",
    "}"
   ]
  },
  {
   "cell_type": "code",
   "execution_count": 28,
   "metadata": {},
   "outputs": [],
   "source": [
    "articles_df['clust_labels'] = [clust_map[label] for label in list(clust_labels)]"
   ]
  },
  {
   "cell_type": "markdown",
   "metadata": {},
   "source": [
    "В кластер, связанный с литературой, попадают две статьи про мифологию (\"Подлинный смысл Поликратова перстня\", \"Сюжет об оживающей статуе\")."
   ]
  },
  {
   "cell_type": "code",
   "execution_count": 30,
   "metadata": {},
   "outputs": [
    {
     "data": {
      "text/html": [
       "<div>\n",
       "<style scoped>\n",
       "    .dataframe tbody tr th:only-of-type {\n",
       "        vertical-align: middle;\n",
       "    }\n",
       "\n",
       "    .dataframe tbody tr th {\n",
       "        vertical-align: top;\n",
       "    }\n",
       "\n",
       "    .dataframe thead th {\n",
       "        text-align: right;\n",
       "    }\n",
       "</style>\n",
       "<table border=\"1\" class=\"dataframe\">\n",
       "  <thead>\n",
       "    <tr style=\"text-align: right;\">\n",
       "      <th></th>\n",
       "      <th>path</th>\n",
       "      <th>published</th>\n",
       "      <th>genre</th>\n",
       "      <th>topic</th>\n",
       "      <th>title</th>\n",
       "      <th>date</th>\n",
       "      <th>text</th>\n",
       "      <th>clust_labels</th>\n",
       "    </tr>\n",
       "  </thead>\n",
       "  <tbody>\n",
       "    <tr>\n",
       "      <th>79</th>\n",
       "      <td>myth/Podlinnyj_smysl_Polikratova_perstnja.txt</td>\n",
       "      <td>no</td>\n",
       "      <td>article</td>\n",
       "      <td>myth</td>\n",
       "      <td>Подлинный смысл Поликратова перстня</td>\n",
       "      <td>0</td>\n",
       "      <td>назир р подлинный смысл поликратово перстень т...</td>\n",
       "      <td>literature</td>\n",
       "    </tr>\n",
       "    <tr>\n",
       "      <th>81</th>\n",
       "      <td>myth/Sjuzhet_ob_ozhivajushhej_statue.txt</td>\n",
       "      <td>yes</td>\n",
       "      <td>article</td>\n",
       "      <td>myth</td>\n",
       "      <td>Сюжет об оживающей статуе</td>\n",
       "      <td>1991</td>\n",
       "      <td>сюжет оживать статуя i широко известно греческ...</td>\n",
       "      <td>literature</td>\n",
       "    </tr>\n",
       "  </tbody>\n",
       "</table>\n",
       "</div>"
      ],
      "text/plain": [
       "                                             path published    genre topic  \\\n",
       "79  myth/Podlinnyj_smysl_Polikratova_perstnja.txt        no  article  myth   \n",
       "81       myth/Sjuzhet_ob_ozhivajushhej_statue.txt       yes  article  myth   \n",
       "\n",
       "                                  title  date  \\\n",
       "79  Подлинный смысл Поликратова перстня     0   \n",
       "81            Сюжет об оживающей статуе  1991   \n",
       "\n",
       "                                                 text clust_labels  \n",
       "79  назир р подлинный смысл поликратово перстень т...   literature  \n",
       "81  сюжет оживать статуя i широко известно греческ...   literature  "
      ]
     },
     "execution_count": 30,
     "metadata": {},
     "output_type": "execute_result"
    }
   ],
   "source": [
    "articles_df[(articles_df.topic == 'myth')&(articles_df.clust_labels == 'literature')]"
   ]
  },
  {
   "cell_type": "markdown",
   "metadata": {},
   "source": [
    "В кластер, к которому относится большинство статей о Достоевском, попадают несколько текстов о литературе и мифологии (\"Автономия литературного героя\", \"Фигура умолчания в русской литературе\", \"О месте Одоевского в русской литературе\", \"Специфика художественного мифотворчества Ф. М. Достоевского\").\n",
    "В статье \"Автономия литературного героя\" черты литературных героев рассматриваются в том числе на примере героев Достоевского. В статье \"Фигура умолчания в русской литературе\" приводится рассуждение о князе Мышкине из романа \"Идиот\". \n",
    "В работе \"О месте Одоевского в русской литературе\" Назиров пишет о связи творчества Одоевского и Достоевского."
   ]
  },
  {
   "cell_type": "code",
   "execution_count": 31,
   "metadata": {},
   "outputs": [
    {
     "data": {
      "text/html": [
       "<div>\n",
       "<style scoped>\n",
       "    .dataframe tbody tr th:only-of-type {\n",
       "        vertical-align: middle;\n",
       "    }\n",
       "\n",
       "    .dataframe tbody tr th {\n",
       "        vertical-align: top;\n",
       "    }\n",
       "\n",
       "    .dataframe thead th {\n",
       "        text-align: right;\n",
       "    }\n",
       "</style>\n",
       "<table border=\"1\" class=\"dataframe\">\n",
       "  <thead>\n",
       "    <tr style=\"text-align: right;\">\n",
       "      <th></th>\n",
       "      <th>path</th>\n",
       "      <th>published</th>\n",
       "      <th>genre</th>\n",
       "      <th>topic</th>\n",
       "      <th>title</th>\n",
       "      <th>date</th>\n",
       "      <th>text</th>\n",
       "      <th>clust_labels</th>\n",
       "    </tr>\n",
       "  </thead>\n",
       "  <tbody>\n",
       "    <tr>\n",
       "      <th>42</th>\n",
       "      <td>literature/nazirov-autonomy.txt</td>\n",
       "      <td>yes</td>\n",
       "      <td>article</td>\n",
       "      <td>literature</td>\n",
       "      <td>Автономия литературного героя</td>\n",
       "      <td>1982</td>\n",
       "      <td>р назир автономия литературный герой р назир а...</td>\n",
       "      <td>Dostoevsky</td>\n",
       "    </tr>\n",
       "    <tr>\n",
       "      <th>51</th>\n",
       "      <td>literature/2017_4_odoevsky</td>\n",
       "      <td>no</td>\n",
       "      <td>article</td>\n",
       "      <td>literature</td>\n",
       "      <td>О месте Одоевского в русской литературе</td>\n",
       "      <td>0</td>\n",
       "      <td>творчество владимир одоевский настоящее пользо...</td>\n",
       "      <td>Dostoevsky</td>\n",
       "    </tr>\n",
       "    <tr>\n",
       "      <th>55</th>\n",
       "      <td>literature/nazirov-umolchanie.txt</td>\n",
       "      <td>yes</td>\n",
       "      <td>article</td>\n",
       "      <td>literature</td>\n",
       "      <td>Фигура умолчания в русской литературе</td>\n",
       "      <td>1998</td>\n",
       "      <td>р назир фигура умолчание русский литература мо...</td>\n",
       "      <td>Dostoevsky</td>\n",
       "    </tr>\n",
       "    <tr>\n",
       "      <th>85</th>\n",
       "      <td>myth/Specifika_hudozhestvennogo_mifotvorchestv...</td>\n",
       "      <td>yes</td>\n",
       "      <td>article</td>\n",
       "      <td>myth</td>\n",
       "      <td>Специфика художественного мифотворчества Ф. М....</td>\n",
       "      <td>1999</td>\n",
       "      <td>р назир специфика художественный мифотворчеств...</td>\n",
       "      <td>Dostoevsky</td>\n",
       "    </tr>\n",
       "  </tbody>\n",
       "</table>\n",
       "</div>"
      ],
      "text/plain": [
       "                                                 path published    genre  \\\n",
       "42                    literature/nazirov-autonomy.txt       yes  article   \n",
       "51                         literature/2017_4_odoevsky        no  article   \n",
       "55                  literature/nazirov-umolchanie.txt       yes  article   \n",
       "85  myth/Specifika_hudozhestvennogo_mifotvorchestv...       yes  article   \n",
       "\n",
       "         topic                                              title  date  \\\n",
       "42  literature                      Автономия литературного героя  1982   \n",
       "51  literature            О месте Одоевского в русской литературе     0   \n",
       "55  literature              Фигура умолчания в русской литературе  1998   \n",
       "85        myth  Специфика художественного мифотворчества Ф. М....  1999   \n",
       "\n",
       "                                                 text clust_labels  \n",
       "42  р назир автономия литературный герой р назир а...   Dostoevsky  \n",
       "51  творчество владимир одоевский настоящее пользо...   Dostoevsky  \n",
       "55  р назир фигура умолчание русский литература мо...   Dostoevsky  \n",
       "85  р назир специфика художественный мифотворчеств...   Dostoevsky  "
      ]
     },
     "execution_count": 31,
     "metadata": {},
     "output_type": "execute_result"
    }
   ],
   "source": [
    "articles_df[(articles_df.topic.isin(['literature','myth']))&(articles_df.clust_labels == 'Dostoevsky')]"
   ]
  },
  {
   "cell_type": "markdown",
   "metadata": {},
   "source": [
    "В кластере, включающей в основном тексты о мифологии, встречаются статьи с темой \"Литература\"."
   ]
  },
  {
   "cell_type": "code",
   "execution_count": 35,
   "metadata": {},
   "outputs": [
    {
     "data": {
      "text/html": [
       "<div>\n",
       "<style scoped>\n",
       "    .dataframe tbody tr th:only-of-type {\n",
       "        vertical-align: middle;\n",
       "    }\n",
       "\n",
       "    .dataframe tbody tr th {\n",
       "        vertical-align: top;\n",
       "    }\n",
       "\n",
       "    .dataframe thead th {\n",
       "        text-align: right;\n",
       "    }\n",
       "</style>\n",
       "<table border=\"1\" class=\"dataframe\">\n",
       "  <thead>\n",
       "    <tr style=\"text-align: right;\">\n",
       "      <th></th>\n",
       "      <th>path</th>\n",
       "      <th>published</th>\n",
       "      <th>genre</th>\n",
       "      <th>topic</th>\n",
       "      <th>title</th>\n",
       "      <th>date</th>\n",
       "      <th>text</th>\n",
       "      <th>clust_labels</th>\n",
       "    </tr>\n",
       "  </thead>\n",
       "  <tbody>\n",
       "    <tr>\n",
       "      <th>35</th>\n",
       "      <td>literature/2013_1_95-98_war-n-peace.txt</td>\n",
       "      <td>no</td>\n",
       "      <td>article</td>\n",
       "      <td>literature</td>\n",
       "      <td>Эпическая основа  «Войны и мира»</td>\n",
       "      <td>1972</td>\n",
       "      <td>аргна оп далее р назир посмотреть стейнера куп...</td>\n",
       "      <td>myth</td>\n",
       "    </tr>\n",
       "    <tr>\n",
       "      <th>36</th>\n",
       "      <td>literature/2014_1_9-66_freid.txt</td>\n",
       "      <td>no</td>\n",
       "      <td>article</td>\n",
       "      <td>literature</td>\n",
       "      <td>О влиянии фрейдизма на современную литературу</td>\n",
       "      <td>1962</td>\n",
       "      <td>р назир влияние фрейдизм современный литератур...</td>\n",
       "      <td>myth</td>\n",
       "    </tr>\n",
       "    <tr>\n",
       "      <th>37</th>\n",
       "      <td>literature/2014_2_9-61_novel.txt</td>\n",
       "      <td>no</td>\n",
       "      <td>article</td>\n",
       "      <td>literature</td>\n",
       "      <td>Материалы к истории романа</td>\n",
       "      <td>1970</td>\n",
       "      <td>р назир материал история роман аргна оп далее ...</td>\n",
       "      <td>myth</td>\n",
       "    </tr>\n",
       "    <tr>\n",
       "      <th>41</th>\n",
       "      <td>literature/hugo-flaubert.txt</td>\n",
       "      <td>no</td>\n",
       "      <td>article</td>\n",
       "      <td>literature</td>\n",
       "      <td>Гюго-Флобер, или невозможная любовь дикаря</td>\n",
       "      <td>0</td>\n",
       "      <td>р назир гюго флобер невозможный любовь дикарь ...</td>\n",
       "      <td>myth</td>\n",
       "    </tr>\n",
       "    <tr>\n",
       "      <th>44</th>\n",
       "      <td>literature/nazirov-contin.txt</td>\n",
       "      <td>no</td>\n",
       "      <td>article</td>\n",
       "      <td>literature</td>\n",
       "      <td>Продолжение как форма обновления традиции</td>\n",
       "      <td>0</td>\n",
       "      <td>древний фольклорный мифологический творчество ...</td>\n",
       "      <td>myth</td>\n",
       "    </tr>\n",
       "    <tr>\n",
       "      <th>54</th>\n",
       "      <td>literature/compromis.txt</td>\n",
       "      <td>no</td>\n",
       "      <td>article</td>\n",
       "      <td>literature</td>\n",
       "      <td>Сюжет как компромисс</td>\n",
       "      <td>1973</td>\n",
       "      <td>сюжет компромисс i древние грек мечтать механи...</td>\n",
       "      <td>myth</td>\n",
       "    </tr>\n",
       "  </tbody>\n",
       "</table>\n",
       "</div>"
      ],
      "text/plain": [
       "                                       path published    genre       topic  \\\n",
       "35  literature/2013_1_95-98_war-n-peace.txt        no  article  literature   \n",
       "36         literature/2014_1_9-66_freid.txt        no  article  literature   \n",
       "37         literature/2014_2_9-61_novel.txt        no  article  literature   \n",
       "41             literature/hugo-flaubert.txt        no  article  literature   \n",
       "44            literature/nazirov-contin.txt        no  article  literature   \n",
       "54                 literature/compromis.txt        no  article  literature   \n",
       "\n",
       "                                            title  date  \\\n",
       "35               Эпическая основа  «Войны и мира»  1972   \n",
       "36  О влиянии фрейдизма на современную литературу  1962   \n",
       "37                     Материалы к истории романа  1970   \n",
       "41     Гюго-Флобер, или невозможная любовь дикаря     0   \n",
       "44      Продолжение как форма обновления традиции     0   \n",
       "54                           Сюжет как компромисс  1973   \n",
       "\n",
       "                                                 text clust_labels  \n",
       "35  аргна оп далее р назир посмотреть стейнера куп...         myth  \n",
       "36  р назир влияние фрейдизм современный литератур...         myth  \n",
       "37  р назир материал история роман аргна оп далее ...         myth  \n",
       "41  р назир гюго флобер невозможный любовь дикарь ...         myth  \n",
       "44  древний фольклорный мифологический творчество ...         myth  \n",
       "54  сюжет компромисс i древние грек мечтать механи...         myth  "
      ]
     },
     "execution_count": 35,
     "metadata": {},
     "output_type": "execute_result"
    }
   ],
   "source": [
    "articles_df[(articles_df.topic == 'literature')&(articles_df.clust_labels == 'myth')]"
   ]
  },
  {
   "cell_type": "markdown",
   "metadata": {},
   "source": [
    "### tSNE"
   ]
  },
  {
   "cell_type": "code",
   "execution_count": 36,
   "metadata": {},
   "outputs": [],
   "source": [
    "from sklearn.manifold import TSNE\n",
    "from sklearn.decomposition import TruncatedSVD\n",
    "from sklearn.pipeline import Pipeline\n",
    "from sklearn.preprocessing import Normalizer\n",
    "from sklearn.feature_extraction.text import *"
   ]
  },
  {
   "cell_type": "code",
   "execution_count": 41,
   "metadata": {},
   "outputs": [],
   "source": [
    "import seaborn as sns\n",
    "import matplotlib.pyplot as plt"
   ]
  },
  {
   "cell_type": "code",
   "execution_count": 42,
   "metadata": {},
   "outputs": [],
   "source": [
    "%matplotlib inline"
   ]
  },
  {
   "cell_type": "code",
   "execution_count": 37,
   "metadata": {},
   "outputs": [],
   "source": [
    "tfidf_vect = TfidfVectorizer(min_df = 3, stop_words = stopwords, max_df = 0.9).fit_transform(articles_df.text)"
   ]
  },
  {
   "cell_type": "code",
   "execution_count": 38,
   "metadata": {},
   "outputs": [],
   "source": [
    "X_reduced = TruncatedSVD(n_components=100, random_state=0).fit_transform(tfidf_vect)"
   ]
  },
  {
   "cell_type": "code",
   "execution_count": 39,
   "metadata": {},
   "outputs": [
    {
     "name": "stdout",
     "output_type": "stream",
     "text": [
      "[t-SNE] Computing 109 nearest neighbors...\n",
      "[t-SNE] Indexed 110 samples in 0.000s...\n",
      "[t-SNE] Computed neighbors for 110 samples in 0.025s...\n",
      "[t-SNE] Computed conditional probabilities for sample 110 / 110\n",
      "[t-SNE] Mean sigma: 0.405850\n",
      "[t-SNE] Computed conditional probabilities in 0.094s\n",
      "[t-SNE] Iteration 50: error = 75.3139038, gradient norm = 0.4662390 (50 iterations in 0.570s)\n",
      "[t-SNE] Iteration 100: error = 77.9761658, gradient norm = 0.4353250 (50 iterations in 0.408s)\n",
      "[t-SNE] Iteration 150: error = 89.5484543, gradient norm = 0.4261963 (50 iterations in 0.378s)\n",
      "[t-SNE] Iteration 200: error = 91.6705093, gradient norm = 0.4421017 (50 iterations in 0.438s)\n",
      "[t-SNE] Iteration 250: error = 87.3687515, gradient norm = 0.4317049 (50 iterations in 0.489s)\n",
      "[t-SNE] KL divergence after 250 iterations with early exaggeration: 87.368752\n",
      "[t-SNE] Iteration 300: error = 1.8732100, gradient norm = 0.0028763 (50 iterations in 0.324s)\n",
      "[t-SNE] Iteration 350: error = 1.5324746, gradient norm = 0.0019250 (50 iterations in 0.382s)\n",
      "[t-SNE] Iteration 400: error = 1.2507782, gradient norm = 0.0012241 (50 iterations in 0.375s)\n",
      "[t-SNE] Iteration 450: error = 1.0132157, gradient norm = 0.0008798 (50 iterations in 0.280s)\n",
      "[t-SNE] Iteration 500: error = 0.9209929, gradient norm = 0.0004083 (50 iterations in 0.270s)\n",
      "[t-SNE] Iteration 550: error = 0.8656033, gradient norm = 0.0003020 (50 iterations in 0.264s)\n",
      "[t-SNE] Iteration 600: error = 0.8353925, gradient norm = 0.0002632 (50 iterations in 0.244s)\n",
      "[t-SNE] Iteration 650: error = 0.7983302, gradient norm = 0.0005914 (50 iterations in 0.236s)\n",
      "[t-SNE] Iteration 700: error = 0.7812729, gradient norm = 0.0001955 (50 iterations in 0.324s)\n",
      "[t-SNE] Iteration 750: error = 0.7544983, gradient norm = 0.0002999 (50 iterations in 0.305s)\n",
      "[t-SNE] Iteration 800: error = 0.7259871, gradient norm = 0.0002723 (50 iterations in 0.218s)\n",
      "[t-SNE] Iteration 850: error = 0.7061611, gradient norm = 0.0001697 (50 iterations in 0.272s)\n",
      "[t-SNE] Iteration 900: error = 0.6843972, gradient norm = 0.0002104 (50 iterations in 0.235s)\n",
      "[t-SNE] Iteration 950: error = 0.6687882, gradient norm = 0.0001309 (50 iterations in 0.230s)\n",
      "[t-SNE] Iteration 1000: error = 0.6569480, gradient norm = 0.0001842 (50 iterations in 0.244s)\n",
      "[t-SNE] Error after 1000 iterations: 0.656948\n"
     ]
    }
   ],
   "source": [
    "X_embedded = TSNE(n_components=2, perplexity=40, verbose=2).fit_transform(X_reduced)"
   ]
  },
  {
   "cell_type": "code",
   "execution_count": 44,
   "metadata": {},
   "outputs": [
    {
     "data": {
      "text/plain": [
       "<seaborn.axisgrid.FacetGrid at 0x107b8ba8>"
      ]
     },
     "execution_count": 44,
     "metadata": {},
     "output_type": "execute_result"
    },
    {
     "data": {
      "image/png": "[encoded data removed]",
      "text/plain": [
       "<Figure size 597.75x504 with 1 Axes>"
      ]
     },
     "metadata": {},
     "output_type": "display_data"
    }
   ],
   "source": [
    "tsne_df = pd.DataFrame({'X': X_embedded[:, 0], 'Y': X_embedded[:, 1], 'topic' : articles_df.topic})\n",
    "sns.FacetGrid(tsne_df, hue=\"topic\", size=7).map(plt.scatter, \"X\", \"Y\").add_legend()"
   ]
  },
  {
   "cell_type": "markdown",
   "metadata": {},
   "source": [
    "В результате снижения размерности векторов текстов с помощью метода t-SNE по полученному отображению на плоскость можно видеть, что тексты коллекции кластеризуются в соответствии с темами. Некоторые статьи о литературе расположены близко к статьям о мифологии, и некоторые тексты, относящиеся к темам \"Литература\" и \"Мифология\" оказываются близкими к кластеру с текстами о Достоевском."
   ]
  },
  {
   "cell_type": "code",
   "execution_count": null,
   "metadata": {},
   "outputs": [],
   "source": []
  }
 ],
 "metadata": {
  "kernelspec": {
   "display_name": "Python 3",
   "language": "python",
   "name": "python3"
  },
  "language_info": {
   "codemirror_mode": {
    "name": "ipython",
    "version": 3
   },
   "file_extension": ".py",
   "mimetype": "text/x-python",
   "name": "python",
   "nbconvert_exporter": "python",
   "pygments_lexer": "ipython3",
   "version": "3.5.5"
  }
 },
 "nbformat": 4,
 "nbformat_minor": 2
}
